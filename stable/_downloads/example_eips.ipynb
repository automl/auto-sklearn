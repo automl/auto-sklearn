{
  "cells": [
    {
      "cell_type": "code",
      "execution_count": null,
      "metadata": {
        "collapsed": false
      },
      "outputs": [],
      "source": [
        "%matplotlib inline"
      ]
    },
    {
      "cell_type": "markdown",
      "metadata": {},
      "source": [
        "\n# EIPS\n\n\nThis example demonstrates the usage of a different acquisition function inside SMAC, namely\n`Expected Improvement per Second (EIPS) <https://papers.nips.cc/paper/4522-practical-bayesian-optimization-of-machine-learning-algorithms.html>_`.\n\n"
      ]
    },
    {
      "cell_type": "code",
      "execution_count": null,
      "metadata": {
        "collapsed": false
      },
      "outputs": [],
      "source": [
        "import sklearn.model_selection\nimport sklearn.datasets\nimport sklearn.metrics\n\nfrom smac.epm.uncorrelated_mo_rf_with_instances import \\\n    UncorrelatedMultiObjectiveRandomForestWithInstances\nfrom smac.utils.util_funcs import get_types\nfrom smac.facade.smac_facade import SMAC\nfrom smac.optimizer.acquisition import EIPS\nfrom smac.runhistory.runhistory2epm import RunHistory2EPM4EIPS\nfrom smac.scenario.scenario import Scenario\nfrom smac.tae.execute_ta_run import StatusType\n\nimport autosklearn.classification\n\n\ndef get_eips_object_callback(\n        scenario_dict,\n        seed,\n        ta,\n        backend,\n        metalearning_configurations,\n        runhistory,\n        run_id,\n):\n    scenario_dict['input_psmac_dirs'] = backend.get_smac_output_glob()\n    scenario = Scenario(scenario_dict)\n    rh2EPM = RunHistory2EPM4EIPS(\n        num_params=len(scenario.cs.get_hyperparameters()),\n        scenario=scenario,\n        success_states=[\n            StatusType.SUCCESS,\n            StatusType.MEMOUT,\n            StatusType.TIMEOUT,\n            StatusType.CRASHED\n        ],\n        impute_censored_data=False,\n        impute_state=None\n    )\n    types, bounds = get_types(scenario.cs,\n                              scenario.feature_array)\n    model = UncorrelatedMultiObjectiveRandomForestWithInstances(\n        ['cost', 'runtime'],\n        types=types,\n        bounds=bounds,\n        instance_features=scenario.feature_array,\n        rf_kwargs={'seed': 1,},\n    )\n    acquisition_function = EIPS(model)\n    return SMAC(\n        runhistory=runhistory,\n        scenario=scenario,\n        rng=seed,\n        tae_runner=ta,\n        runhistory2epm=rh2EPM,\n        model=model,\n        acquisition_function=acquisition_function,\n        run_id=run_id,\n    )\n\n\ndef main():\n    X, y = sklearn.datasets.load_digits(return_X_y=True)\n    X_train, X_test, y_train, y_test = \\\n        sklearn.model_selection.train_test_split(X, y, random_state=1)\n\n    automl = autosklearn.classification.AutoSklearnClassifier(\n        time_left_for_this_task=120,\n        per_run_time_limit=30,\n        tmp_folder='/tmp/autosklearn_eips_example_tmp',\n        output_folder='/tmp/autosklearn_eips_example_out',\n        get_smac_object_callback=get_eips_object_callback,\n        initial_configurations_via_metalearning=0,\n    )\n    automl.fit(X_train, y_train, dataset_name='digits')\n\n    # Print the final ensemble constructed by auto-sklearn via ROAR.\n    print(automl.show_models())\n    predictions = automl.predict(X_test)\n    # Print statistics about the auto-sklearn run such as number of\n    # iterations, number of models failed with a time out.\n    print(automl.sprint_statistics())\n    print(\"Accuracy score\", sklearn.metrics.accuracy_score(y_test, predictions))\n\n\n\nif __name__ == '__main__':\n    main()"
      ]
    }
  ],
  "metadata": {
    "kernelspec": {
      "display_name": "Python 3",
      "language": "python",
      "name": "python3"
    },
    "language_info": {
      "codemirror_mode": {
        "name": "ipython",
        "version": 3
      },
      "file_extension": ".py",
      "mimetype": "text/x-python",
      "name": "python",
      "nbconvert_exporter": "python",
      "pygments_lexer": "ipython3",
      "version": "3.6.2"
    }
  },
  "nbformat": 4,
  "nbformat_minor": 0
}