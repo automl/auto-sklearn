{
  "cells": [
    {
      "cell_type": "code",
      "execution_count": null,
      "metadata": {
        "collapsed": false
      },
      "outputs": [],
      "source": [
        "%matplotlib inline"
      ]
    },
    {
      "cell_type": "markdown",
      "metadata": {},
      "source": [
        "\n# Sequential Usage\n\n\nBy default, *auto-sklearn* fits the machine learning models and build their\nensembles in parallel. However, it is also possible to run the two processes\nsequentially. The example below shows how to first fit the models and build the\nensembles afterwards.\n\n"
      ]
    },
    {
      "cell_type": "code",
      "execution_count": null,
      "metadata": {
        "collapsed": false
      },
      "outputs": [],
      "source": [
        "import sklearn.model_selection\nimport sklearn.datasets\nimport sklearn.metrics\n\nimport autosklearn.classification\n\n\ndef main():\n    X, y = sklearn.datasets.load_digits(return_X_y=True)\n    X_train, X_test, y_train, y_test = \\\n        sklearn.model_selection.train_test_split(X, y, random_state=1)\n\n    automl = autosklearn.classification.AutoSklearnClassifier(\n        time_left_for_this_task=120,\n        per_run_time_limit=30,\n        tmp_folder='/tmp/autosklearn_sequential_example_tmp',\n        output_folder='/tmp/autosklearn_sequential_example_out',\n        # Do not construct ensembles in parallel to avoid using more than one\n        # core at a time. The ensemble will be constructed after auto-sklearn\n        # finished fitting all machine learning models.\n        ensemble_size=0,\n        delete_tmp_folder_after_terminate=False,\n    )\n    automl.fit(X_train, y_train, dataset_name='digits')\n    # This call to fit_ensemble uses all models trained in the previous call\n    # to fit to build an ensemble which can be used with automl.predict()\n    automl.fit_ensemble(y_train, ensemble_size=50)\n\n    print(automl.show_models())\n    predictions = automl.predict(X_test)\n    print(automl.sprint_statistics())\n    print(\"Accuracy score\", sklearn.metrics.accuracy_score(y_test, predictions))\n\n\nif __name__ == '__main__':\n    main()"
      ]
    }
  ],
  "metadata": {
    "kernelspec": {
      "display_name": "Python 3",
      "language": "python",
      "name": "python3"
    },
    "language_info": {
      "codemirror_mode": {
        "name": "ipython",
        "version": 3
      },
      "file_extension": ".py",
      "mimetype": "text/x-python",
      "name": "python",
      "nbconvert_exporter": "python",
      "pygments_lexer": "ipython3",
      "version": "3.6.2"
    }
  },
  "nbformat": 4,
  "nbformat_minor": 0
}