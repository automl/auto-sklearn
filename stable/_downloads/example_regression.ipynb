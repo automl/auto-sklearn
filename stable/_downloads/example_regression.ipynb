{
  "cells": [
    {
      "cell_type": "code",
      "execution_count": null,
      "metadata": {
        "collapsed": false
      },
      "outputs": [],
      "source": [
        "%matplotlib inline"
      ]
    },
    {
      "cell_type": "markdown",
      "metadata": {},
      "source": [
        "\n# Regression\n\n\nThe following example shows how to fit a simple regression model with\n*auto-sklearn*.\n\n"
      ]
    },
    {
      "cell_type": "code",
      "execution_count": null,
      "metadata": {
        "collapsed": false
      },
      "outputs": [],
      "source": [
        "import sklearn.model_selection\nimport sklearn.datasets\nimport sklearn.metrics\n\nimport autosklearn.regression\n\ndef main():\n    X, y = sklearn.datasets.load_boston(return_X_y=True)\n    feature_types = (['numerical'] * 3) + ['categorical'] + (['numerical'] * 9)\n    X_train, X_test, y_train, y_test = \\\n        sklearn.model_selection.train_test_split(X, y, random_state=1)\n\n    automl = autosklearn.regression.AutoSklearnRegressor(\n        time_left_for_this_task=120,\n        per_run_time_limit=30,\n        tmp_folder='/tmp/autosklearn_regression_example_tmp',\n        output_folder='/tmp/autosklearn_regression_example_out',\n    )\n    automl.fit(X_train, y_train, dataset_name='boston',\n               feat_type=feature_types)\n\n    print(automl.show_models())\n    predictions = automl.predict(X_test)\n    print(\"R2 score:\", sklearn.metrics.r2_score(y_test, predictions))\n\n\nif __name__ == '__main__':\n    main()"
      ]
    }
  ],
  "metadata": {
    "kernelspec": {
      "display_name": "Python 3",
      "language": "python",
      "name": "python3"
    },
    "language_info": {
      "codemirror_mode": {
        "name": "ipython",
        "version": 3
      },
      "file_extension": ".py",
      "mimetype": "text/x-python",
      "name": "python",
      "nbconvert_exporter": "python",
      "pygments_lexer": "ipython3",
      "version": "3.6.2"
    }
  },
  "nbformat": 4,
  "nbformat_minor": 0
}