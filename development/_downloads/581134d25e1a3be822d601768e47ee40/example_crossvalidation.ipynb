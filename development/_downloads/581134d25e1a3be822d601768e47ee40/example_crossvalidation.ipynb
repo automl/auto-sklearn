{
  "cells": [
    {
      "cell_type": "code",
      "execution_count": null,
      "metadata": {
        "collapsed": false
      },
      "outputs": [],
      "source": [
        "%matplotlib inline"
      ]
    },
    {
      "cell_type": "markdown",
      "metadata": {},
      "source": [
        "\n# Cross-Validation\n\n\nIn *auto-sklearn* it is possible to use different resampling strategies\nby specifying the arguments ``resampling_strategy`` and\n``resampling_strategy_arguments``. The following example shows how to use\ncross-validation and how to set the folds when instantiating\n``AutoSklearnClassifier``.\n\n"
      ]
    },
    {
      "cell_type": "code",
      "execution_count": null,
      "metadata": {
        "collapsed": false
      },
      "outputs": [],
      "source": [
        "import sklearn.model_selection\nimport sklearn.datasets\nimport sklearn.metrics\n\nimport autosklearn.classification\n\n\ndef main():\n    X, y = sklearn.datasets.load_breast_cancer(return_X_y=True)\n    X_train, X_test, y_train, y_test = \\\n        sklearn.model_selection.train_test_split(X, y, random_state=1)\n\n    automl = autosklearn.classification.AutoSklearnClassifier(\n        time_left_for_this_task=120,\n        per_run_time_limit=30,\n        tmp_folder='/tmp/autosklearn_cv_example_tmp',\n        output_folder='/tmp/autosklearn_cv_example_out',\n        delete_tmp_folder_after_terminate=False,\n        resampling_strategy='cv',\n        resampling_strategy_arguments={'folds': 5},\n    )\n\n    # fit() changes the data in place, but refit needs the original data. We\n    # therefore copy the data. In practice, one should reload the data\n    automl.fit(X_train.copy(), y_train.copy(), dataset_name='breast_cancer')\n    # During fit(), models are fit on individual cross-validation folds. To use\n    # all available data, we call refit() which trains all models in the\n    # final ensemble on the whole dataset.\n    automl.refit(X_train.copy(), y_train.copy())\n\n    print(automl.show_models())\n\n    predictions = automl.predict(X_test)\n    print(\"Accuracy score\", sklearn.metrics.accuracy_score(y_test, predictions))\n\n\nif __name__ == '__main__':\n    main()"
      ]
    }
  ],
  "metadata": {
    "kernelspec": {
      "display_name": "Python 3",
      "language": "python",
      "name": "python3"
    },
    "language_info": {
      "codemirror_mode": {
        "name": "ipython",
        "version": 3
      },
      "file_extension": ".py",
      "mimetype": "text/x-python",
      "name": "python",
      "nbconvert_exporter": "python",
      "pygments_lexer": "ipython3",
      "version": "3.6.7"
    }
  },
  "nbformat": 4,
  "nbformat_minor": 0
}