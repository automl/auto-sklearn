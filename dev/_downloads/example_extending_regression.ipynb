{
  "cells": [
    {
      "cell_type": "code",
      "execution_count": null,
      "metadata": {
        "collapsed": false
      },
      "outputs": [],
      "source": [
        "%matplotlib inline"
      ]
    },
    {
      "cell_type": "markdown",
      "metadata": {},
      "source": [
        "\n# Extending Auto-Sklearn with Regression Component\n\n\nThe following example demonstrates how to create a new regression\ncomponent for using in auto-sklearn.\n\n"
      ]
    },
    {
      "cell_type": "code",
      "execution_count": null,
      "metadata": {
        "collapsed": false
      },
      "outputs": [],
      "source": [
        "from ConfigSpace.configuration_space import ConfigurationSpace\nfrom ConfigSpace.hyperparameters import UniformFloatHyperparameter, \\\n    UniformIntegerHyperparameter, CategoricalHyperparameter\n\nimport sklearn.metrics\nimport autosklearn.regression\nimport autosklearn.pipeline.components.regression\nfrom autosklearn.pipeline.components.base import AutoSklearnRegressionAlgorithm\nfrom autosklearn.pipeline.constants import SPARSE, DENSE, \\\n    SIGNED_DATA, UNSIGNED_DATA, PREDICTIONS\n\n\n# Implement kernel ridge regression component for auto-sklearn.\nclass KernelRidgeRegression(AutoSklearnRegressionAlgorithm):\n    def __init__(self, alpha, kernel, gamma, degree, random_state=None):\n        self.alpha = alpha\n        self.kernel = kernel\n        self.gamma = gamma\n        self.degree = degree\n        self.random_state = random_state\n        self.estimator = None\n\n    def fit(self, X, y):\n        self.alpha = float(self.alpha)\n        self.gamma = float(self.gamma)\n        self.degree = int(self.degree)\n\n        import sklearn.kernel_ridge\n        self.estimator = sklearn.kernel_ridge.KernelRidge(alpha=self.alpha,\n                                                          kernel=self.kernel,\n                                                          gamma=self.gamma,\n                                                          degree=self.degree,\n                                                          )\n        self.estimator.fit(X, y)\n        return self\n\n    def predict(self, X):\n        if self.estimator is None:\n            raise NotImplementedError\n        return self.estimator.predict(X)\n\n    @staticmethod\n    def get_properties(dataset_properties=None):\n        return {'shortname': 'KRR',\n                'name': 'Kernel Ridge Regression',\n                'handles_regression': True,\n                'handles_classification': False,\n                'handles_multiclass': False,\n                'handles_multilabel': False,\n                'is_deterministic': True,\n                'input': (SPARSE, DENSE, UNSIGNED_DATA, SIGNED_DATA),\n                'output': (PREDICTIONS,)}\n\n    @staticmethod\n    def get_hyperparameter_search_space(dataset_properties=None):\n        cs = ConfigurationSpace()\n        alpha = UniformFloatHyperparameter(\n            name='alpha', lower=10 ** -5, upper=1, log=True, default_value=0.1)\n        kernel = CategoricalHyperparameter(\n            name='kernel',\n            choices=['linear',\n                     'rbf',\n                     'sigmoid',\n                     'polynomial',\n                     ],\n            default_value='linear'\n        )\n        gamma = UniformFloatHyperparameter(\n            name='gamma', lower=0.00001, upper=1, default_value=0.1, log=True\n        )\n        degree = UniformIntegerHyperparameter(\n            name='degree', lower=2, upper=5, default_value=3\n        )\n        cs.add_hyperparameters([alpha, kernel, gamma, degree])\n        return cs\n\n\n# Add KRR component to auto-sklearn.\nautosklearn.pipeline.components.regression.add_regressor(KernelRidgeRegression)\ncs = KernelRidgeRegression.get_hyperparameter_search_space()\nprint(cs)\n\n# Generate data.\nfrom sklearn.datasets import load_diabetes\nfrom sklearn.model_selection import train_test_split\nX, y = load_diabetes(return_X_y=True)\nX_train, X_test, y_train, y_test = train_test_split(X, y)\n\n# Fit the model using KRR.\nreg = autosklearn.regression.AutoSklearnRegressor(\n    time_left_for_this_task=30,\n    per_run_time_limit=10,\n    include_estimators=['KernelRidgeRegression'],\n)\nreg.fit(X_train, y_train)\n\n# Print prediction score and statistics.\ny_pred = reg.predict(X_test)\nprint(\"r2 score: \", sklearn.metrics.r2_score(y_pred, y_test))\nprint(reg.sprint_statistics())\nprint(reg.show_models())"
      ]
    }
  ],
  "metadata": {
    "kernelspec": {
      "display_name": "Python 3",
      "language": "python",
      "name": "python3"
    },
    "language_info": {
      "codemirror_mode": {
        "name": "ipython",
        "version": 3
      },
      "file_extension": ".py",
      "mimetype": "text/x-python",
      "name": "python",
      "nbconvert_exporter": "python",
      "pygments_lexer": "ipython3",
      "version": "3.6.2"
    }
  },
  "nbformat": 4,
  "nbformat_minor": 0
}