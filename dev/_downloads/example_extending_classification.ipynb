{
  "cells": [
    {
      "cell_type": "code",
      "execution_count": null,
      "metadata": {
        "collapsed": false
      },
      "outputs": [],
      "source": [
        "%matplotlib inline"
      ]
    },
    {
      "cell_type": "markdown",
      "metadata": {},
      "source": [
        "\n# Extending Auto-Sklearn with Classification Component\n\n\nThe following example demonstrates how to create a new classification\ncomponent for using in auto-sklearn.\n\n"
      ]
    },
    {
      "cell_type": "code",
      "execution_count": null,
      "metadata": {
        "collapsed": false
      },
      "outputs": [],
      "source": [
        "from ConfigSpace.configuration_space import ConfigurationSpace\nfrom ConfigSpace.hyperparameters import CategoricalHyperparameter, \\\n    UniformIntegerHyperparameter, UniformFloatHyperparameter\n\nimport sklearn.metrics\nimport autosklearn.classification\nimport autosklearn.pipeline.components.classification\nfrom autosklearn.pipeline.components.base \\\n    import AutoSklearnClassificationAlgorithm\nfrom autosklearn.pipeline.constants import DENSE, SIGNED_DATA, UNSIGNED_DATA, \\\n    PREDICTIONS\n\n\n# Create MLP classifier component for auto-sklearn.\nclass MLPClassifier(AutoSklearnClassificationAlgorithm):\n    def __init__(self,\n                 hidden_layer_depth,\n                 num_nodes_per_layer,\n                 activation,\n                 alpha,\n                 solver,\n                 random_state=None,\n                 ):\n        self.hidden_layer_depth = hidden_layer_depth\n        self.num_nodes_per_layer = num_nodes_per_layer\n        self.activation = activation\n        self.alpha = alpha\n        self.solver = solver\n        self.random_state = random_state\n\n    def fit(self, X, y):\n        self.num_nodes_per_layer = int(self.num_nodes_per_layer)\n        self.hidden_layer_depth = int(self.hidden_layer_depth)\n        self.alpha = float(self.alpha)\n\n        from sklearn.neural_network import MLPClassifier\n        hidden_layer_sizes = tuple(self.num_nodes_per_layer \\\n                                   for i in range(self.hidden_layer_depth))\n\n        self.estimator = MLPClassifier(hidden_layer_sizes=hidden_layer_sizes,\n                                       activation=self.activation,\n                                       alpha=self.alpha,\n                                       solver=self.solver,\n                                       random_state=self.random_state,\n                                       )\n        self.estimator.fit(X, y)\n        return self\n\n    def predict(self, X):\n        if self.estimator is None:\n            raise NotImplementedError()\n        return self.estimator.predict(X)\n\n    def predict_proba(self, X):\n        if self.estimator is None:\n            raise NotImplementedError()\n        return self.estimator.predict_proba(X)\n\n    @staticmethod\n    def get_properties(dataset_properties=None):\n        return {'shortname':'MLP Classifier',\n                'name': 'MLP CLassifier',\n                'handles_regression': False,\n                'handles_classification': True,\n                'handles_multiclass': True,\n                'handles_multilabel': False,\n                'is_deterministic': False,\n                # Both input and output must be tuple(iterable)\n                'input': [DENSE, SIGNED_DATA, UNSIGNED_DATA],\n                'output': [PREDICTIONS]\n                }\n\n    @staticmethod\n    def get_hyperparameter_search_space(dataset_properties=None):\n        cs = ConfigurationSpace()\n        hidden_layer_depth = UniformIntegerHyperparameter(\n            name=\"hidden_layer_depth\", lower=1, upper=3, default_value=1\n        )\n        num_nodes_per_layer = UniformIntegerHyperparameter(\n            name=\"num_nodes_per_layer\", lower=16, upper=216, default_value=32\n        )\n        activation = CategoricalHyperparameter(\n            name=\"activation\", choices=['identity', 'logistic', 'tanh', 'relu'],\n            default_value='relu'\n        )\n        alpha = UniformFloatHyperparameter(\n            name=\"alpha\", lower=0.0001, upper=1.0, default_value=0.0001\n        )\n        solver = CategoricalHyperparameter(\n            name=\"solver\", choices=['lbfgs', 'sgd', 'adam'], default_value='adam'\n        )\n        cs.add_hyperparameters([hidden_layer_depth,\n                                num_nodes_per_layer,\n                                activation,\n                                alpha,\n                                solver,\n                                ])\n        return cs\n\n\n# Add MLP classifier component to auto-sklearn.\nautosklearn.pipeline.components.classification.add_classifier(MLPClassifier)\ncs = MLPClassifier.get_hyperparameter_search_space()\nprint(cs)\n\n# Generate data.\nfrom sklearn.datasets import load_breast_cancer\nfrom sklearn.model_selection import train_test_split\nX, y = load_breast_cancer(return_X_y=True)\nX_train, X_test, y_train, y_test = train_test_split(X, y)\n\n# Fit MLP classifier to the data.\nclf = autosklearn.classification.AutoSklearnClassifier(\n    time_left_for_this_task=20,\n    per_run_time_limit=10,\n    include_estimators=['MLPClassifier'],\n)\nclf.fit(X_train, y_train)\n\n# Print test accuracy and statistics.\ny_pred = clf.predict(X_test)\nprint(\"accuracy: \", sklearn.metrics.accuracy_score(y_pred, y_test))\nprint(clf.sprint_statistics())\nprint(clf.show_models())"
      ]
    }
  ],
  "metadata": {
    "kernelspec": {
      "display_name": "Python 3",
      "language": "python",
      "name": "python3"
    },
    "language_info": {
      "codemirror_mode": {
        "name": "ipython",
        "version": 3
      },
      "file_extension": ".py",
      "mimetype": "text/x-python",
      "name": "python",
      "nbconvert_exporter": "python",
      "pygments_lexer": "ipython3",
      "version": "3.6.2"
    }
  },
  "nbformat": 4,
  "nbformat_minor": 0
}