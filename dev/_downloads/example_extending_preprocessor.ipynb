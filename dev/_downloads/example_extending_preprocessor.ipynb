{
  "cells": [
    {
      "cell_type": "code",
      "execution_count": null,
      "metadata": {
        "collapsed": false
      },
      "outputs": [],
      "source": [
        "%matplotlib inline"
      ]
    },
    {
      "cell_type": "markdown",
      "metadata": {},
      "source": [
        "\n# Extending Auto-Sklearn with Preprocessor Component\n\n\nThe following example demonstrates how to create a wrapper around the linear\ndiscriminant analysis (LDA) algorithm from sklearn and use it as a preprocessor\nin auto-sklearn.\n\n"
      ]
    },
    {
      "cell_type": "code",
      "execution_count": null,
      "metadata": {
        "collapsed": false
      },
      "outputs": [],
      "source": [
        "from ConfigSpace.configuration_space import ConfigurationSpace\nfrom ConfigSpace.hyperparameters import UniformFloatHyperparameter, \\\n    UniformIntegerHyperparameter, CategoricalHyperparameter\n\nimport sklearn.metrics\nimport autosklearn.classification\nimport autosklearn.metrics\nimport autosklearn.pipeline.components.feature_preprocessing\nfrom autosklearn.pipeline.components.base \\\n    import AutoSklearnPreprocessingAlgorithm\nfrom autosklearn.pipeline.constants import DENSE, SIGNED_DATA, \\\n    UNSIGNED_DATA\n\n\n# Create LDA component for auto-sklearn.\nclass LDA(AutoSklearnPreprocessingAlgorithm):\n    def __init__(self, shrinkage, solver, n_components, tol, random_state=None):\n        self.solver = solver\n        self.shrinkage = shrinkage\n        self.n_components = n_components\n        self.tol = tol\n        self.random_state = random_state\n        self.preprocessor = None\n\n    def fit(self, X, y=None):\n        self.shrinkage = float(self.shrinkage)\n        self.n_components = int(self.n_components)\n        self.tol = float(self.tol)\n\n        import sklearn.discriminant_analysis\n        self.preprocessor = \\\n            sklearn.discriminant_analysis.LinearDiscriminantAnalysis(\n                shrinkage=self.shrinkage,\n                solver=self.solver,\n                n_components=self.n_components,\n                tol=self.tol,\n            )\n        self.preprocessor.fit(X, y)\n        return self\n\n    def transform(self, X):\n        if self.preprocessor is None:\n            raise NotImplementedError()\n        return self.preprocessor.transform(X)\n\n    @staticmethod\n    def get_properties(dataset_properties=None):\n        return {'shortname': 'LDA',\n                'name': 'Linear Discriminant Analysis',\n                'handles_regression': False,\n                'handles_classification': True,\n                'handles_multiclass': False,\n                'handles_multilabel': False,\n                'is_deterministic': True,\n                'input': (DENSE, UNSIGNED_DATA, SIGNED_DATA),\n                'output': (DENSE, UNSIGNED_DATA, SIGNED_DATA)}\n\n    @staticmethod\n    def get_hyperparameter_search_space(dataset_properties=None):\n        cs = ConfigurationSpace()\n        solver = CategoricalHyperparameter(\n            name=\"solver\", choices=['svd','lsqr','eigen'], default_value='svd'\n        )\n        shrinkage = UniformFloatHyperparameter(\n            name=\"shrinkage\", lower=0.0, upper=1.0, default_value=0.5\n        )\n        n_components = UniformIntegerHyperparameter(\n            name=\"n_components\", lower=1, upper=29, default_value=10\n        )\n        tol = UniformFloatHyperparameter(\n            name=\"tol\", lower=0.0001, upper=1, default_value=0.0001\n        )\n        cs.add_hyperparameters([solver, shrinkage, n_components, tol])\n        return cs\n\n\n# Add LDA component to auto-sklearn.\nautosklearn.pipeline.components.feature_preprocessing.add_preprocessor(LDA)\n\n# Create dataset.\nfrom sklearn.datasets import load_breast_cancer\nfrom sklearn.model_selection import train_test_split\nX, y = load_breast_cancer(return_X_y=True)\nX_train, X_test, y_train, y_test = train_test_split(X, y)\n\n# Configuration space.\ncs = LDA.get_hyperparameter_search_space()\nprint(cs)\n\n# Fit the model using LDA as preprocessor.\nclf = autosklearn.classification.AutoSklearnClassifier(\n    time_left_for_this_task=30,\n    include_preprocessors=['LDA'],\n)\nclf.fit(X_train, y_train)\n\n# Print prediction score and statistics.\ny_pred = clf.predict(X_test)\nprint(\"accracy: \", sklearn.metrics.accuracy_score(y_pred, y_test))\nprint(clf.sprint_statistics())\nprint(clf.show_models())"
      ]
    }
  ],
  "metadata": {
    "kernelspec": {
      "display_name": "Python 3",
      "language": "python",
      "name": "python3"
    },
    "language_info": {
      "codemirror_mode": {
        "name": "ipython",
        "version": 3
      },
      "file_extension": ".py",
      "mimetype": "text/x-python",
      "name": "python",
      "nbconvert_exporter": "python",
      "pygments_lexer": "ipython3",
      "version": "3.6.2"
    }
  },
  "nbformat": 4,
  "nbformat_minor": 0
}