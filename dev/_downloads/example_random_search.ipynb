{
  "cells": [
    {
      "cell_type": "code",
      "execution_count": null,
      "metadata": {
        "collapsed": false
      },
      "outputs": [],
      "source": [
        "%matplotlib inline"
      ]
    },
    {
      "cell_type": "markdown",
      "metadata": {},
      "source": [
        "\n# Random Search\n\n\nA crucial feature of *auto-sklearn* is automatically optimizing the hyperparameters\nthrough SMAC, introduced `here <http://ml.informatik.uni-freiburg.de/papers/11-LION5-SMAC.pdf>`_.\nAdditionally, it is possible to use `random search <http://www.jmlr.org/papers/v13/bergstra12a.html>`_\ninstead of SMAC, as demonstrated in the example below.\nFurthermore, the example also demonstrates how to use\n`Random Online Aggressive Racing (ROAR) <http://ml.informatik.uni-freiburg.de/papers/11-LION5-SMAC.pdf>`_\nas yet another alternative optimizatino strategy.\nBoth examples are intended to show how the optimization strategy in *auto-sklearn* can be adapted.\n\n"
      ]
    },
    {
      "cell_type": "code",
      "execution_count": null,
      "metadata": {
        "collapsed": false
      },
      "outputs": [],
      "source": [
        "import sklearn.model_selection\nimport sklearn.datasets\nimport sklearn.metrics\n\nfrom smac.facade.roar_facade import ROAR\nfrom smac.scenario.scenario import Scenario\n\nimport autosklearn.classification\n\n\ndef get_roar_object_callback(\n    scenario_dict,\n    seed,\n    ta,\n    backend,\n    metalearning_configurations,\n    runhistory,\n    run_id,\n):\n    \"\"\"Random online adaptive racing.\"\"\"\n    scenario_dict['input_psmac_dirs'] = backend.get_smac_output_glob()\n    scenario = Scenario(scenario_dict)\n    return ROAR(\n        scenario=scenario,\n        rng=seed,\n        tae_runner=ta,\n        runhistory=runhistory,\n        run_id=run_id,\n    )\n\n\ndef get_random_search_object_callback(\n        scenario_dict,\n        seed,\n        ta,\n        backend,\n        metalearning_configurations,\n        runhistory,\n        run_id,\n):\n    \"\"\"Random search.\"\"\"\n    scenario_dict['input_psmac_dirs'] = backend.get_smac_output_glob()\n    scenario_dict['minR'] = len(scenario_dict['instances'])\n    scenario_dict['initial_incumbent'] = 'RANDOM'\n    scenario = Scenario(scenario_dict)\n    return ROAR(\n        scenario=scenario,\n        rng=seed,\n        tae_runner=ta,\n        runhistory=runhistory,\n        run_id=run_id,\n    )\n\n\ndef main():\n    X, y = sklearn.datasets.load_breast_cancer(return_X_y=True)\n    X_train, X_test, y_train, y_test = \\\n        sklearn.model_selection.train_test_split(X, y, random_state=1)\n\n    automl = autosklearn.classification.AutoSklearnClassifier(\n        time_left_for_this_task=120, per_run_time_limit=30,\n        tmp_folder='/tmp/autosklearn_random_search_example_tmp',\n        output_folder='/tmp/autosklearn_random_search_example_out',\n        get_smac_object_callback=get_roar_object_callback,\n        initial_configurations_via_metalearning=0,\n    )\n    automl.fit(X_train, y_train, dataset_name='breast_cancer')\n\n    print('#' * 80)\n    print('Results for ROAR.')\n    # Print the final ensemble constructed by auto-sklearn via ROAR.\n    print(automl.show_models())\n    predictions = automl.predict(X_test)\n    # Print statistics about the auto-sklearn run such as number of\n    # iterations, number of models failed with a time out.\n    print(automl.sprint_statistics())\n    print(\"Accuracy score\", sklearn.metrics.accuracy_score(y_test, predictions))\n\n    automl = autosklearn.classification.AutoSklearnClassifier(\n        time_left_for_this_task=120,\n        per_run_time_limit=30,\n        tmp_folder='/tmp/autosklearn_random_search_example_tmp',\n        output_folder='/tmp/autosklearn_random_search_example_out',\n        get_smac_object_callback=get_random_search_object_callback,\n        initial_configurations_via_metalearning=0,\n    )\n    automl.fit(X_train, y_train, dataset_name='breast_cancer')\n\n    print('#' * 80)\n    print('Results for random search.')\n    # Print the final ensemble constructed by auto-sklearn via random search.\n    print(automl.show_models())\n    predictions = automl.predict(X_test)\n    # Print statistics about the auto-sklearn run such as number of\n    # iterations, number of models failed with a time out.\n    print(automl.sprint_statistics())\n    print(\"Accuracy score\", sklearn.metrics.accuracy_score(y_test, predictions))\n\n\nif __name__ == '__main__':\n    main()"
      ]
    }
  ],
  "metadata": {
    "kernelspec": {
      "display_name": "Python 3",
      "language": "python",
      "name": "python3"
    },
    "language_info": {
      "codemirror_mode": {
        "name": "ipython",
        "version": 3
      },
      "file_extension": ".py",
      "mimetype": "text/x-python",
      "name": "python",
      "nbconvert_exporter": "python",
      "pygments_lexer": "ipython3",
      "version": "3.6.2"
    }
  },
  "nbformat": 4,
  "nbformat_minor": 0
}