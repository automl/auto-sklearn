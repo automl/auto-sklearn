{
  "cells": [
    {
      "cell_type": "code",
      "execution_count": null,
      "metadata": {
        "collapsed": false
      },
      "outputs": [],
      "source": [
        "%matplotlib inline"
      ]
    },
    {
      "cell_type": "markdown",
      "metadata": {},
      "source": [
        "\n# Feature Types\n\n\nIn *auto-sklearn* it is possible to specify the feature types of a dataset when\ncalling the method :meth:`fit() <autosklearn.classification.AutoSklearnClassifier.fit>` by specifying the argument ``feat_type``.\nThe following example demonstrates a way it can be done.\n\n"
      ]
    },
    {
      "cell_type": "code",
      "execution_count": null,
      "metadata": {
        "collapsed": false
      },
      "outputs": [],
      "source": [
        "import sklearn.model_selection\nimport sklearn.datasets\nimport sklearn.metrics\n\nimport autosklearn.classification\n\ntry:\n    import openml\nexcept ImportError:\n    print(\"#\"*80 + \"\"\"\n    To run this example you need to install openml-python:\n\n    pip install git+https://github.com/renatopp/liac-arff\n    pip install requests xmltodict\n    pip install git+https://github.com/openml/openml-python@develop --no-deps\\n\"\"\" +\n          \"#\"*80)\n    raise\n\n\ndef main():\n    # Load adult dataset from openml.org, see https://www.openml.org/t/2117\n    openml.config.apikey = '610344db6388d9ba34f6db45a3cf71de'\n\n    task = openml.tasks.get_task(2117)\n    train_indices, test_indices = task.get_train_test_split_indices()\n    X, y = task.get_X_and_y()\n\n    X_train = X[train_indices]\n    y_train = y[train_indices]\n    X_test = X[test_indices]\n    y_test = y[test_indices]\n\n    dataset = task.get_dataset()\n    _, _, categorical_indicator = dataset.\\\n        get_data(target=task.target_name, return_categorical_indicator=True)\n\n    # Create feature type list from openml.org indicator and run autosklearn\n    feat_type = ['Categorical' if ci else 'Numerical'\n                 for ci in categorical_indicator]\n\n    cls = autosklearn.classification.AutoSklearnClassifier(\n        time_left_for_this_task=120,\n        per_run_time_limit=30,\n    )\n    cls.fit(X_train, y_train, feat_type=feat_type)\n\n    predictions = cls.predict(X_test)\n    print(\"Accuracy score\", sklearn.metrics.accuracy_score(y_test, predictions))\n\n\nif __name__ == \"__main__\":\n    main()"
      ]
    }
  ],
  "metadata": {
    "kernelspec": {
      "display_name": "Python 3",
      "language": "python",
      "name": "python3"
    },
    "language_info": {
      "codemirror_mode": {
        "name": "ipython",
        "version": 3
      },
      "file_extension": ".py",
      "mimetype": "text/x-python",
      "name": "python",
      "nbconvert_exporter": "python",
      "pygments_lexer": "ipython3",
      "version": "3.6.2"
    }
  },
  "nbformat": 4,
  "nbformat_minor": 0
}