{
 "cells": [
  {
   "cell_type": "markdown",
   "metadata": {},
   "source": [
    "# Extending Auto-Sklearn with LGB  Component"
   ]
  },
  {
   "cell_type": "code",
   "execution_count": 1,
   "metadata": {
    "ExecuteTime": {
     "end_time": "2020-11-02T11:25:51.765811Z",
     "start_time": "2020-11-02T11:25:50.732680Z"
    }
   },
   "outputs": [
    {
     "name": "stdout",
     "output_type": "stream",
     "text": [
      "xgb 1.2.1\n",
      "autosklearn 0.10.0\n"
     ]
    },
    {
     "name": "stderr",
     "output_type": "stream",
     "text": [
      "/opt/conda/lib/python3.7/site-packages/pyparsing.py:3190: FutureWarning: Possible set intersection at position 3\n",
      "  self.re = re.compile(self.reString)\n"
     ]
    }
   ],
   "source": [
    "from ConfigSpace.configuration_space import ConfigurationSpace\n",
    "from ConfigSpace.hyperparameters import UniformFloatHyperparameter, \\\n",
    "    UniformIntegerHyperparameter, CategoricalHyperparameter\n",
    "\n",
    "import sklearn.metrics\n",
    "import autosklearn.regression\n",
    "import autosklearn.pipeline.components.regression\n",
    "from autosklearn.pipeline.components.base import AutoSklearnRegressionAlgorithm\n",
    "from autosklearn.pipeline.constants import SPARSE, DENSE, \\\n",
    "    SIGNED_DATA, UNSIGNED_DATA, PREDICTIONS\n",
    "\n",
    "from sklearn.datasets import load_diabetes\n",
    "from sklearn.model_selection import train_test_split\n",
    "\n",
    "import xgboost as xgb\n",
    "print(\"xgb\", xgb.__version__)\n",
    "print(\"autosklearn\", autosklearn.__version__)\n"
   ]
  },
  {
   "cell_type": "markdown",
   "metadata": {},
   "source": [
    "## Generate data"
   ]
  },
  {
   "cell_type": "code",
   "execution_count": 2,
   "metadata": {
    "ExecuteTime": {
     "end_time": "2020-11-02T11:25:51.776418Z",
     "start_time": "2020-11-02T11:25:51.766951Z"
    }
   },
   "outputs": [],
   "source": [
    "X, y = load_diabetes(return_X_y=True)\n",
    "X_train, X_test, y_train, y_test = train_test_split(X, y)"
   ]
  },
  {
   "cell_type": "markdown",
   "metadata": {},
   "source": [
    "## Test LGB Regressor "
   ]
  },
  {
   "cell_type": "code",
   "execution_count": 3,
   "metadata": {
    "ExecuteTime": {
     "end_time": "2020-11-02T11:25:51.779992Z",
     "start_time": "2020-11-02T11:25:51.777531Z"
    }
   },
   "outputs": [],
   "source": [
    "# lgb_model = lgb_model = lgb.LGBMRegressor(\n",
    "#     boosting_type='gbdt', class_weight=None, colsample_bytree=1.0,\n",
    "#     importance_type='split', learning_rate=0.1, max_depth=-1,\n",
    "#     min_child_samples=20, min_child_weight=0.001, min_split_gain=0.0,\n",
    "#     n_estimators=100, n_jobs=-1, num_leaves=31, objective=None,\n",
    "#     random_state=None, reg_alpha=0.0, reg_lambda=0.0, silent=True,\n",
    "#     subsample=1.0, subsample_for_bin=200000, subsample_freq=0\n",
    "# )\n",
    "\n",
    "# lgb_model.fit(X_train, y_train, verbose=1)\n",
    "# lgb_model.predict(X_test)"
   ]
  },
  {
   "cell_type": "markdown",
   "metadata": {},
   "source": [
    "## Implement LGBcomponent"
   ]
  },
  {
   "cell_type": "code",
   "execution_count": 4,
   "metadata": {
    "ExecuteTime": {
     "end_time": "2020-11-02T11:25:51.791871Z",
     "start_time": "2020-11-02T11:25:51.781051Z"
    }
   },
   "outputs": [
    {
     "name": "stdout",
     "output_type": "stream",
     "text": [
      "Configuration space object:\n",
      "  Hyperparameters:\n",
      "    boosting_type, Type: Categorical, Choices: {gbdt, dart, goss, rf}, Default: gbdt\n",
      "    learning_rate, Type: UniformFloat, Range: [1e-09, 1.0], Default: 0.1\n",
      "    max_depth, Type: UniformInteger, Range: [-1, 1000], Default: -1\n",
      "    n_estimators, Type: UniformInteger, Range: [1, 2000], Default: 100\n",
      "    num_leaves, Type: UniformInteger, Range: [1, 1000], Default: 31\n",
      "    reg_alpha, Type: UniformFloat, Range: [0.0, 1.0], Default: 0.0\n",
      "    reg_lambda, Type: UniformFloat, Range: [0.0, 1.0], Default: 1.0\n",
      "\n"
     ]
    }
   ],
   "source": [
    "class LGBReg(AutoSklearnRegressionAlgorithm):\n",
    "    def __init__(self, boosting_type, num_leaves, max_depth, learning_rate, n_estimators, reg_alpha, reg_lambda\n",
    "                 ,random_state=None):\n",
    "        self.boosting_type=boosting_type\n",
    "        self.num_leaves=num_leaves\n",
    "        self.max_depth=max_depth\n",
    "        self.learning_rate=learning_rate\n",
    "        self.n_estimators=n_estimators\n",
    "        self.reg_alpha=reg_alpha\n",
    "        self.reg_lambda=reg_lambda\n",
    "        \n",
    "        self.random_state = random_state\n",
    "        self.estimator = None\n",
    "        \n",
    "    def fit(self, X, y):\n",
    "        import lightgbm as lgb\n",
    "        self.estimator = lgb.LGBMRegressor(boosting_type=self.boosting_type\n",
    "                                           ,num_leaves=self.num_leaves\n",
    "                                           ,max_depth=self.max_depth\n",
    "                                           ,learning_rate=self.learning_rate\n",
    "                                           ,n_estimators=self.n_estimators\n",
    "                                           ,reg_alpha=self.reg_alpha\n",
    "                                           ,reg_lambda=self.reg_lambda\n",
    "                                            )\n",
    "        \n",
    "        self.estimator.fit(X, y)\n",
    "        return self\n",
    "    \n",
    "    def predict(self, X):\n",
    "        if self.estimator is None:\n",
    "            raise NotImplementedError\n",
    "        return self.estimator.predict(X)\n",
    "    \n",
    "    @staticmethod\n",
    "    def get_properties(dataset_properties=None):\n",
    "        return {'shortname': 'LGBReg',\n",
    "                'name': 'LGB Regression',\n",
    "                'handles_regression': True,\n",
    "                'handles_classification': False,\n",
    "                'handles_multiclass': False,\n",
    "                'handles_multilabel': False,\n",
    "                'handles_multioutput': True,\n",
    "                'is_deterministic': True,\n",
    "                'input': (SPARSE, DENSE, UNSIGNED_DATA, SIGNED_DATA),\n",
    "                'output': (PREDICTIONS,)}\n",
    "\n",
    "    @staticmethod\n",
    "    def get_hyperparameter_search_space(dataset_properties=None):\n",
    "        cs = ConfigurationSpace()\n",
    "        boosting_type = CategoricalHyperparameter(\n",
    "            name='boosting_type',choices=['gbdt','dart','goss','rf'],default_value='gbdt')\n",
    "        num_leaves=UniformIntegerHyperparameter(\n",
    "            name='num_leaves', lower=1, upper=1000, default_value=31)\n",
    "        max_depth=UniformIntegerHyperparameter(\n",
    "            name='max_depth', lower=-1, upper=1000, default_value=-1)\n",
    "        learning_rate = UniformFloatHyperparameter(\n",
    "            name='learning_rate', lower=0.000000001, upper=1,default_value=0.1) #log=True\n",
    "        n_estimators=UniformIntegerHyperparameter(\n",
    "            name='n_estimators', lower=1, upper=2000, default_value=100)\n",
    "        reg_alpha = UniformFloatHyperparameter(\n",
    "            name='reg_alpha', lower=0.0000000, upper=1, default_value=0.0) #log=True\n",
    "        reg_lambda = UniformFloatHyperparameter(\n",
    "            name='reg_lambda', lower=0.0000000, upper=1, default_value=1) #log=True\n",
    "        cs.add_hyperparameters([boosting_type,num_leaves, max_depth, learning_rate,n_estimators, reg_alpha,reg_lambda])\n",
    "        return cs\n",
    "    \n",
    "# Add XGB component to auto-sklearn.\n",
    "autosklearn.pipeline.components.regression.add_regressor(LGBReg)\n",
    "cs = LGBReg.get_hyperparameter_search_space()\n",
    "print(cs)"
   ]
  },
  {
   "cell_type": "markdown",
   "metadata": {},
   "source": [
    "\n",
    "\n"
   ]
  },
  {
   "cell_type": "markdown",
   "metadata": {},
   "source": [
    "## Build and Fit the model using the created LGB component"
   ]
  },
  {
   "cell_type": "code",
   "execution_count": 5,
   "metadata": {
    "ExecuteTime": {
     "end_time": "2020-11-02T11:25:51.797941Z",
     "start_time": "2020-11-02T11:25:51.792786Z"
    }
   },
   "outputs": [],
   "source": [
    "automl = autosklearn.regression.AutoSklearnRegressor(\n",
    "    time_left_for_this_task=30 \n",
    "    ,per_run_time_limit=10\n",
    "    ,ensemble_size=1\n",
    "    ,include_estimators=['LGBReg'] \n",
    "    ,initial_configurations_via_metalearning=0,\n",
    ")"
   ]
  },
  {
   "cell_type": "code",
   "execution_count": 6,
   "metadata": {
    "ExecuteTime": {
     "end_time": "2020-11-02T11:26:16.001327Z",
     "start_time": "2020-11-02T11:25:51.798804Z"
    }
   },
   "outputs": [
    {
     "name": "stderr",
     "output_type": "stream",
     "text": [
      "/opt/conda/lib/python3.7/site-packages/sklearn/base.py:197: FutureWarning: From version 0.24, get_params will raise an AttributeError if a parameter cannot be retrieved as an instance attribute. Previously it would return None.\n",
      "  FutureWarning)\n"
     ]
    },
    {
     "data": {
      "text/plain": [
       "AutoSklearnRegressor(dask_client=None,\n",
       "                     delete_output_folder_after_terminate=True,\n",
       "                     delete_tmp_folder_after_terminate=True,\n",
       "                     disable_evaluator_output=False, ensemble_memory_limit=1024,\n",
       "                     ensemble_nbest=50, ensemble_size=1,\n",
       "                     exclude_estimators=None, exclude_preprocessors=None,\n",
       "                     get_smac_object_callback=None,\n",
       "                     include_estimators=['LGBReg'], include_preprocessors=None,\n",
       "                     initial_configurations_via_metalearning=0,\n",
       "                     logging_config=None, max_models_on_disc=50,\n",
       "                     metadata_directory=None, metric=None, ml_memory_limit=3072,\n",
       "                     n_jobs=None, output_folder=None, per_run_time_limit=10,\n",
       "                     resampling_strategy='holdout',\n",
       "                     resampling_strategy_arguments=None, seed=1,\n",
       "                     smac_scenario_args=None, time_left_for_this_task=30,\n",
       "                     tmp_folder=None)"
      ]
     },
     "execution_count": 6,
     "metadata": {},
     "output_type": "execute_result"
    }
   ],
   "source": [
    "automl.fit(X_train, y_train)"
   ]
  },
  {
   "cell_type": "markdown",
   "metadata": {},
   "source": [
    "## Print prediction \n",
    "\n"
   ]
  },
  {
   "cell_type": "code",
   "execution_count": 7,
   "metadata": {
    "ExecuteTime": {
     "end_time": "2020-11-02T11:26:16.008344Z",
     "start_time": "2020-11-02T11:26:16.002342Z"
    }
   },
   "outputs": [
    {
     "data": {
      "text/plain": [
       "array([ 66.53259277, 103.89299774, 136.52035522, 293.59533691,\n",
       "       186.27400208,  76.51495361,  56.70431519, 112.90505219,\n",
       "       130.87165833, 116.31547546, 124.48735809, 118.27326965,\n",
       "       141.48805237, 187.00762939, 155.06814575, 131.96495056,\n",
       "       194.85415649, 237.56455994, 144.42370605,  71.26400757,\n",
       "       134.99624634, 285.84072876, 126.3681488 , 162.30859375,\n",
       "        23.5545826 , 142.72735596,  61.02006912, 205.13531494,\n",
       "       100.60227203, 246.43344116, 115.33290863,  54.67824936,\n",
       "       180.66041565, 201.71412659, 219.90782166,  27.64725113,\n",
       "        69.43060303,  71.19359589,  61.78504944, 159.76596069,\n",
       "       124.44114685, 215.11134338, 150.71516418, 150.51506042,\n",
       "       140.82475281, 102.83168793,  67.84287262,  50.54925537,\n",
       "       196.36239624, 219.18096924,  94.47736359, 257.85559082,\n",
       "       121.86736298, 128.85049438, 246.40852356, 178.89678955,\n",
       "       142.73390198, 197.31465149, 245.0425415 , 174.84680176,\n",
       "       108.14919281, 155.99594116,  65.76758575,  87.46740723,\n",
       "        78.3607254 , 109.69042969, 274.17590332, 282.02938843,\n",
       "        80.93996429,  24.46930504, 187.2150116 , 251.13092041,\n",
       "       126.92527008,  44.70458984, 209.6214447 , 165.58407593,\n",
       "       125.29966736, 215.07583618, 130.85748291, 127.68648529,\n",
       "       150.90003967, 203.12136841, 144.5599823 , 152.56846619,\n",
       "        68.89469147, 109.37770081, 117.39028931,  25.69788933,\n",
       "       279.00149536, 209.43173218, 128.34561157, 144.76271057,\n",
       "       112.48019409, 213.01081848, 183.70401001, 114.9679184 ,\n",
       "       131.42741394, 103.80175018, 137.54154968, 209.34481812,\n",
       "       143.97250366, 133.31420898, 183.94963074, 124.14408875,\n",
       "        78.31898499,  77.55135345, 140.05317688, 185.15419006,\n",
       "        76.7470932 , 146.65263367, 181.85185242])"
      ]
     },
     "execution_count": 7,
     "metadata": {},
     "output_type": "execute_result"
    }
   ],
   "source": [
    "y_pred = automl.predict(X_test)\n",
    "y_pred"
   ]
  },
  {
   "cell_type": "markdown",
   "metadata": {},
   "source": [
    "## Print search results"
   ]
  },
  {
   "cell_type": "code",
   "execution_count": 8,
   "metadata": {
    "ExecuteTime": {
     "end_time": "2020-11-02T11:26:16.013085Z",
     "start_time": "2020-11-02T11:26:16.009693Z"
    }
   },
   "outputs": [
    {
     "name": "stdout",
     "output_type": "stream",
     "text": [
      "auto-sklearn results:\n",
      "  Dataset name: 998d86a16f123feaa038754a008b44b3\n",
      "  Metric: r2\n",
      "  Best validation score: 0.419776\n",
      "  Number of target algorithm runs: 18\n",
      "  Number of successful target algorithm runs: 11\n",
      "  Number of crashed target algorithm runs: 7\n",
      "  Number of target algorithms that exceeded the time limit: 0\n",
      "  Number of target algorithms that exceeded the memory limit: 0\n",
      "\n"
     ]
    }
   ],
   "source": [
    "print(automl.sprint_statistics())"
   ]
  },
  {
   "cell_type": "markdown",
   "metadata": {},
   "source": [
    "## Print model parameters"
   ]
  },
  {
   "cell_type": "code",
   "execution_count": 9,
   "metadata": {
    "ExecuteTime": {
     "end_time": "2020-11-02T11:26:16.018198Z",
     "start_time": "2020-11-02T11:26:16.013900Z"
    }
   },
   "outputs": [
    {
     "name": "stdout",
     "output_type": "stream",
     "text": [
      "r2 score:  0.18172291187203238\n",
      "[(1.000000, SimpleRegressionPipeline({'data_preprocessing:categorical_transformer:categorical_encoding:__choice__': 'no_encoding', 'data_preprocessing:categorical_transformer:category_coalescence:__choice__': 'minority_coalescer', 'data_preprocessing:numerical_transformer:imputation:strategy': 'most_frequent', 'data_preprocessing:numerical_transformer:rescaling:__choice__': 'standardize', 'feature_preprocessor:__choice__': 'fast_ica', 'regressor:__choice__': 'LGBReg', 'data_preprocessing:categorical_transformer:category_coalescence:minority_coalescer:minimum_fraction': 0.06411384473064781, 'feature_preprocessor:fast_ica:algorithm': 'deflation', 'feature_preprocessor:fast_ica:fun': 'logcosh', 'feature_preprocessor:fast_ica:whiten': 'False', 'regressor:LGBReg:boosting_type': 'dart', 'regressor:LGBReg:learning_rate': 0.42089639838202075, 'regressor:LGBReg:max_depth': 980, 'regressor:LGBReg:n_estimators': 183, 'regressor:LGBReg:num_leaves': 363, 'regressor:LGBReg:reg_alpha': 0.3209527042437357, 'regressor:LGBReg:reg_lambda': 0.04093621793996183},\n",
      "dataset_properties={\n",
      "  'task': 4,\n",
      "  'sparse': False,\n",
      "  'multioutput': False,\n",
      "  'target_type': 'regression',\n",
      "  'signed': False})),\n",
      "]\n"
     ]
    }
   ],
   "source": [
    "print(\"r2 score: \", sklearn.metrics.r2_score(y_pred, y_test))\n",
    "print(automl.show_models())"
   ]
  },
  {
   "cell_type": "code",
   "execution_count": null,
   "metadata": {},
   "outputs": [],
   "source": []
  },
  {
   "cell_type": "code",
   "execution_count": null,
   "metadata": {},
   "outputs": [],
   "source": []
  }
 ],
 "metadata": {
  "kernelspec": {
   "display_name": "Python 3",
   "language": "python",
   "name": "python3"
  },
  "language_info": {
   "codemirror_mode": {
    "name": "ipython",
    "version": 3
   },
   "file_extension": ".py",
   "mimetype": "text/x-python",
   "name": "python",
   "nbconvert_exporter": "python",
   "pygments_lexer": "ipython3",
   "version": "3.7.7"
  },
  "toc": {
   "base_numbering": 1,
   "nav_menu": {},
   "number_sections": false,
   "sideBar": true,
   "skip_h1_title": false,
   "title_cell": "Table of Contents",
   "title_sidebar": "Contents",
   "toc_cell": false,
   "toc_position": {
    "height": "calc(100% - 180px)",
    "left": "10px",
    "top": "150px",
    "width": "364.25px"
   },
   "toc_section_display": true,
   "toc_window_display": true
  }
 },
 "nbformat": 4,
 "nbformat_minor": 1
}
