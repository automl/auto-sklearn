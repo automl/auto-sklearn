{
 "cells": [
  {
   "cell_type": "code",
   "execution_count": 1,
   "id": "0cf77edf",
   "metadata": {},
   "outputs": [],
   "source": [
    "import sklearn.datasets\n",
    "import sklearn.metrics\n",
    "from sklearn.utils.validation import check_is_fitted\n",
    "\n",
    "import autosklearn.regression\n",
    "import matplotlib.pyplot as plt\n",
    "from autosklearn.metrics import r2, mean_squared_error\n",
    "import matplotlib.pyplot as plt\n",
    "\n",
    "import pandas as pd\n",
    "import numpy as np"
   ]
  },
  {
   "cell_type": "code",
   "execution_count": 2,
   "id": "c1ebe06d",
   "metadata": {},
   "outputs": [],
   "source": [
    "X, y = sklearn.datasets.load_diabetes(return_X_y=True)\n",
    "\n",
    "X_train, X_test, y_train, y_test = sklearn.model_selection.train_test_split(\n",
    "    X, y, random_state=1\n",
    ")"
   ]
  },
  {
   "cell_type": "code",
   "execution_count": 3,
   "id": "973bcff8",
   "metadata": {},
   "outputs": [
    {
     "data": {
      "text/plain": [
       "AutoSklearnRegressor(ensemble_class=<class 'autosklearn.ensembles.ensemble_selection.EnsembleSelection'>,\n",
       "                     ensemble_kwargs={'ensemble_size': 1},\n",
       "                     metric=mean_squared_error, per_run_time_limit=20, seed=42,\n",
       "                     time_left_for_this_task=120)"
      ]
     },
     "execution_count": 3,
     "metadata": {},
     "output_type": "execute_result"
    }
   ],
   "source": [
    "automl = autosklearn.regression.AutoSklearnRegressor(\n",
    "    time_left_for_this_task=120,\n",
    "    per_run_time_limit=20,\n",
    "    metric = mean_squared_error,\n",
    "    ensemble_kwargs = {'ensemble_size': 1},\n",
    "    seed = 42\n",
    ")\n",
    "automl.fit(X_train, y_train, X_test, y_test, dataset_name=\"diabetes\")"
   ]
  },
  {
   "cell_type": "code",
   "execution_count": 4,
   "id": "85c152a8",
   "metadata": {},
   "outputs": [
    {
     "name": "stdout",
     "output_type": "stream",
     "text": [
      "Train MSE: 2818.5945386007616\n",
      "Test MSE: 3033.870417581635\n"
     ]
    }
   ],
   "source": [
    "train_predictions = automl.predict(X_train)\n",
    "print(\"Train MSE:\", sklearn.metrics.mean_squared_error(y_train, train_predictions))\n",
    "test_predictions = automl.predict(X_test)\n",
    "print(\"Test MSE:\", sklearn.metrics.mean_squared_error(y_test, test_predictions))"
   ]
  },
  {
   "cell_type": "code",
   "execution_count": 5,
   "id": "b1517ed0",
   "metadata": {},
   "outputs": [],
   "source": [
    "pot = automl.performance_over_time_"
   ]
  },
  {
   "cell_type": "code",
   "execution_count": 6,
   "id": "affd3266",
   "metadata": {},
   "outputs": [
    {
     "data": {
      "text/html": [
       "<div>\n",
       "<style scoped>\n",
       "    .dataframe tbody tr th:only-of-type {\n",
       "        vertical-align: middle;\n",
       "    }\n",
       "\n",
       "    .dataframe tbody tr th {\n",
       "        vertical-align: top;\n",
       "    }\n",
       "\n",
       "    .dataframe thead th {\n",
       "        text-align: right;\n",
       "    }\n",
       "</style>\n",
       "<table border=\"1\" class=\"dataframe\">\n",
       "  <thead>\n",
       "    <tr style=\"text-align: right;\">\n",
       "      <th></th>\n",
       "      <th>Timestamp</th>\n",
       "      <th>ensemble_optimization_score</th>\n",
       "      <th>ensemble_test_score</th>\n",
       "      <th>single_best_optimization_score</th>\n",
       "      <th>single_best_train_score</th>\n",
       "      <th>single_best_test_score</th>\n",
       "    </tr>\n",
       "  </thead>\n",
       "  <tbody>\n",
       "    <tr>\n",
       "      <th>38</th>\n",
       "      <td>2022-10-24 14:02:11.000000</td>\n",
       "      <td>NaN</td>\n",
       "      <td>NaN</td>\n",
       "      <td>3124.737053</td>\n",
       "      <td>456.107946</td>\n",
       "      <td>4071.382489</td>\n",
       "    </tr>\n",
       "    <tr>\n",
       "      <th>0</th>\n",
       "      <td>2022-10-24 14:02:11.751302</td>\n",
       "      <td>3124.737053</td>\n",
       "      <td>4071.382489</td>\n",
       "      <td>3124.737053</td>\n",
       "      <td>456.107946</td>\n",
       "      <td>4071.382489</td>\n",
       "    </tr>\n",
       "    <tr>\n",
       "      <th>58</th>\n",
       "      <td>2022-10-24 14:02:36.000000</td>\n",
       "      <td>3124.737053</td>\n",
       "      <td>4071.382489</td>\n",
       "      <td>2742.175477</td>\n",
       "      <td>2305.821584</td>\n",
       "      <td>3326.742538</td>\n",
       "    </tr>\n",
       "    <tr>\n",
       "      <th>8</th>\n",
       "      <td>2022-10-24 14:02:36.936868</td>\n",
       "      <td>2742.175477</td>\n",
       "      <td>3326.742538</td>\n",
       "      <td>2742.175477</td>\n",
       "      <td>2305.821584</td>\n",
       "      <td>3326.742538</td>\n",
       "    </tr>\n",
       "    <tr>\n",
       "      <th>66</th>\n",
       "      <td>2022-10-24 14:02:58.000000</td>\n",
       "      <td>2742.175477</td>\n",
       "      <td>3326.742538</td>\n",
       "      <td>2594.385615</td>\n",
       "      <td>2930.191740</td>\n",
       "      <td>3033.870418</td>\n",
       "    </tr>\n",
       "    <tr>\n",
       "      <th>24</th>\n",
       "      <td>2022-10-24 14:02:58.122755</td>\n",
       "      <td>2594.385615</td>\n",
       "      <td>3033.870418</td>\n",
       "      <td>2594.385615</td>\n",
       "      <td>2930.191740</td>\n",
       "      <td>3033.870418</td>\n",
       "    </tr>\n",
       "  </tbody>\n",
       "</table>\n",
       "</div>"
      ],
      "text/plain": [
       "                    Timestamp  ensemble_optimization_score  \\\n",
       "38 2022-10-24 14:02:11.000000                          NaN   \n",
       "0  2022-10-24 14:02:11.751302                  3124.737053   \n",
       "58 2022-10-24 14:02:36.000000                  3124.737053   \n",
       "8  2022-10-24 14:02:36.936868                  2742.175477   \n",
       "66 2022-10-24 14:02:58.000000                  2742.175477   \n",
       "24 2022-10-24 14:02:58.122755                  2594.385615   \n",
       "\n",
       "    ensemble_test_score  single_best_optimization_score  \\\n",
       "38                  NaN                     3124.737053   \n",
       "0           4071.382489                     3124.737053   \n",
       "58          4071.382489                     2742.175477   \n",
       "8           3326.742538                     2742.175477   \n",
       "66          3326.742538                     2594.385615   \n",
       "24          3033.870418                     2594.385615   \n",
       "\n",
       "    single_best_train_score  single_best_test_score  \n",
       "38               456.107946             4071.382489  \n",
       "0                456.107946             4071.382489  \n",
       "58              2305.821584             3326.742538  \n",
       "8               2305.821584             3326.742538  \n",
       "66              2930.191740             3033.870418  \n",
       "24              2930.191740             3033.870418  "
      ]
     },
     "execution_count": 6,
     "metadata": {},
     "output_type": "execute_result"
    }
   ],
   "source": [
    "pot"
   ]
  },
  {
   "cell_type": "code",
   "execution_count": 7,
   "id": "89d89aae",
   "metadata": {},
   "outputs": [
    {
     "data": {
      "text/plain": [
       "<matplotlib.legend.Legend at 0x7f00f0f414c0>"
      ]
     },
     "execution_count": 7,
     "metadata": {},
     "output_type": "execute_result"
    },
    {
     "data": {
      "image/png": "[encoded data removed]",
      "text/plain": [
       "<Figure size 640x480 with 1 Axes>"
      ]
     },
     "metadata": {},
     "output_type": "display_data"
    }
   ],
   "source": [
    "plt.plot(pot['Timestamp'], pot['single_best_optimization_score'], '-o', label = 'single_best_optimization_score')\n",
    "plt.plot(pot['Timestamp'], pot['ensemble_optimization_score'], '-o', label = 'ensemble_optimization_score')\n",
    "plt.legend()"
   ]
  }
 ],
 "metadata": {
  "kernelspec": {
   "display_name": "Python 3 (ipykernel)",
   "language": "python",
   "name": "python3"
  },
  "language_info": {
   "codemirror_mode": {
    "name": "ipython",
    "version": 3
   },
   "file_extension": ".py",
   "mimetype": "text/x-python",
   "name": "python",
   "nbconvert_exporter": "python",
   "pygments_lexer": "ipython3",
   "version": "3.8.10"
  }
 },
 "nbformat": 4,
 "nbformat_minor": 5
}
